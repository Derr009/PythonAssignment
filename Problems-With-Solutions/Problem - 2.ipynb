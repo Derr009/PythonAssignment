{
 "cells": [
  {
   "cell_type": "markdown",
   "id": "9b0cc1f0-8b33-4c3d-a4ed-14599cd980ac",
   "metadata": {},
   "source": [
    "### Plot the distribution of BoxOffice collections in the combined dataset\n",
    "### What is your inference?\n",
    "### Are there any outliers? Who are they?\n"
   ]
  },
  {
   "cell_type": "code",
   "execution_count": null,
   "id": "70a792cf-ab72-4b90-a402-4f78e264b2e4",
   "metadata": {},
   "outputs": [],
   "source": []
  },
  {
   "cell_type": "code",
   "execution_count": 2,
   "id": "583582d9-0e79-43d8-8855-c4001a291830",
   "metadata": {},
   "outputs": [],
   "source": [
    "cursor = conn.cursor()"
   ]
  },
  {
   "cell_type": "code",
   "execution_count": 3,
   "id": "6955127c-8ab0-403a-9b33-ad6a9024f44d",
   "metadata": {},
   "outputs": [],
   "source": [
    "import sqlite3\n",
    "import pandas as pd\n",
    "\n",
    "conn = sqlite3.connect('bollywood_movies.sqlite')\n",
    "df_sqlite = pd.read_sql_query(\"SELECT * FROM Movies\", conn)"
   ]
  },
  {
   "cell_type": "code",
   "execution_count": null,
   "id": "8d1db4c1-406f-4c34-91fc-49ab54c5e4fc",
   "metadata": {},
   "outputs": [],
   "source": []
  },
  {
   "cell_type": "code",
   "execution_count": 4,
   "id": "539bcdab-c093-42f6-a1be-f77401bae7ce",
   "metadata": {},
   "outputs": [],
   "source": [
    "df_csv = pd.read_csv('indian_movies.csv')"
   ]
  },
  {
   "cell_type": "code",
   "execution_count": 5,
   "id": "a204156c-452a-47ff-aa14-2bfa49101d24",
   "metadata": {},
   "outputs": [
    {
     "data": {
      "text/html": [
       "<div>\n",
       "<style scoped>\n",
       "    .dataframe tbody tr th:only-of-type {\n",
       "        vertical-align: middle;\n",
       "    }\n",
       "\n",
       "    .dataframe tbody tr th {\n",
       "        vertical-align: top;\n",
       "    }\n",
       "\n",
       "    .dataframe thead th {\n",
       "        text-align: right;\n",
       "    }\n",
       "</style>\n",
       "<table border=\"1\" class=\"dataframe\">\n",
       "  <thead>\n",
       "    <tr style=\"text-align: right;\">\n",
       "      <th></th>\n",
       "      <th>Unnamed: 0</th>\n",
       "      <th>MovieID</th>\n",
       "      <th>Title</th>\n",
       "      <th>Director</th>\n",
       "      <th>Genre</th>\n",
       "      <th>ReleaseYear</th>\n",
       "      <th>Budget (Crores)</th>\n",
       "      <th>BoxOffice (Crores)</th>\n",
       "      <th>Rating</th>\n",
       "      <th>Duration (minutes)</th>\n",
       "      <th>LeadActor</th>\n",
       "      <th>LeadActress</th>\n",
       "      <th>Language</th>\n",
       "      <th>ProductionCompany</th>\n",
       "    </tr>\n",
       "  </thead>\n",
       "  <tbody>\n",
       "    <tr>\n",
       "      <th>0</th>\n",
       "      <td>7</td>\n",
       "      <td>MOV008</td>\n",
       "      <td>Sarkar (Tamil)</td>\n",
       "      <td>A. R. Murugadoss</td>\n",
       "      <td>Action Thriller</td>\n",
       "      <td>2005.0</td>\n",
       "      <td>NaN</td>\n",
       "      <td>NaN</td>\n",
       "      <td>7.5</td>\n",
       "      <td>173.0</td>\n",
       "      <td>Vijay</td>\n",
       "      <td>Keerthy Suresh</td>\n",
       "      <td>Tamil</td>\n",
       "      <td>Kalaignar TV</td>\n",
       "    </tr>\n",
       "    <tr>\n",
       "      <th>1</th>\n",
       "      <td>9</td>\n",
       "      <td>MOV010</td>\n",
       "      <td>2.0 (Tamil)</td>\n",
       "      <td>S. Shankar</td>\n",
       "      <td>Science Fiction Action</td>\n",
       "      <td>2018.0</td>\n",
       "      <td>550.0</td>\n",
       "      <td>800.0</td>\n",
       "      <td>6.9</td>\n",
       "      <td>147.0</td>\n",
       "      <td>Rajinikanth</td>\n",
       "      <td>Amy Jackson</td>\n",
       "      <td>Tamil</td>\n",
       "      <td>Lyca Productions</td>\n",
       "    </tr>\n",
       "    <tr>\n",
       "      <th>2</th>\n",
       "      <td>21</td>\n",
       "      <td>MOV022</td>\n",
       "      <td>K.G.F: Chapter 1</td>\n",
       "      <td>Prashanth Neel</td>\n",
       "      <td>Action Drama</td>\n",
       "      <td>2018.0</td>\n",
       "      <td>50.0</td>\n",
       "      <td>250.0</td>\n",
       "      <td>7.9</td>\n",
       "      <td>156.0</td>\n",
       "      <td>Yash</td>\n",
       "      <td>Srinidhi Shetty</td>\n",
       "      <td>Kannada</td>\n",
       "      <td>Hombale Films</td>\n",
       "    </tr>\n",
       "    <tr>\n",
       "      <th>3</th>\n",
       "      <td>23</td>\n",
       "      <td>MOV024</td>\n",
       "      <td>Avengers: Endgame (Dubbed)</td>\n",
       "      <td>Anthony Russo, Joseph Russo</td>\n",
       "      <td>Superhero</td>\n",
       "      <td>2019.0</td>\n",
       "      <td>NaN</td>\n",
       "      <td>NaN</td>\n",
       "      <td>8.4</td>\n",
       "      <td>181.0</td>\n",
       "      <td>Robert Downey Jr.</td>\n",
       "      <td>Scarlett Johansson</td>\n",
       "      <td>English (Dubbed in Telugu, Kannada, Hindi)</td>\n",
       "      <td>Marvel Studios</td>\n",
       "    </tr>\n",
       "    <tr>\n",
       "      <th>4</th>\n",
       "      <td>25</td>\n",
       "      <td>MOV026</td>\n",
       "      <td>Pailwaan</td>\n",
       "      <td>S. Krishna</td>\n",
       "      <td>Sports Action</td>\n",
       "      <td>2019.0</td>\n",
       "      <td>30.0</td>\n",
       "      <td>55.0</td>\n",
       "      <td>6.8</td>\n",
       "      <td>NaN</td>\n",
       "      <td>Sudeep</td>\n",
       "      <td>Aakanksha Singh</td>\n",
       "      <td>Kannada</td>\n",
       "      <td>RRR Motion Pictures</td>\n",
       "    </tr>\n",
       "  </tbody>\n",
       "</table>\n",
       "</div>"
      ],
      "text/plain": [
       "   Unnamed: 0 MovieID                       Title  \\\n",
       "0           7  MOV008              Sarkar (Tamil)   \n",
       "1           9  MOV010                 2.0 (Tamil)   \n",
       "2          21  MOV022            K.G.F: Chapter 1   \n",
       "3          23  MOV024  Avengers: Endgame (Dubbed)   \n",
       "4          25  MOV026                    Pailwaan   \n",
       "\n",
       "                      Director                   Genre  ReleaseYear  \\\n",
       "0             A. R. Murugadoss         Action Thriller       2005.0   \n",
       "1                   S. Shankar  Science Fiction Action       2018.0   \n",
       "2               Prashanth Neel            Action Drama       2018.0   \n",
       "3  Anthony Russo, Joseph Russo               Superhero       2019.0   \n",
       "4                   S. Krishna           Sports Action       2019.0   \n",
       "\n",
       "   Budget (Crores)  BoxOffice (Crores)  Rating  Duration (minutes)  \\\n",
       "0              NaN                 NaN     7.5               173.0   \n",
       "1            550.0               800.0     6.9               147.0   \n",
       "2             50.0               250.0     7.9               156.0   \n",
       "3              NaN                 NaN     8.4               181.0   \n",
       "4             30.0                55.0     6.8                 NaN   \n",
       "\n",
       "           LeadActor         LeadActress  \\\n",
       "0              Vijay      Keerthy Suresh   \n",
       "1        Rajinikanth         Amy Jackson   \n",
       "2               Yash     Srinidhi Shetty   \n",
       "3  Robert Downey Jr.  Scarlett Johansson   \n",
       "4             Sudeep     Aakanksha Singh   \n",
       "\n",
       "                                     Language    ProductionCompany  \n",
       "0                                       Tamil         Kalaignar TV  \n",
       "1                                       Tamil     Lyca Productions  \n",
       "2                                     Kannada        Hombale Films  \n",
       "3  English (Dubbed in Telugu, Kannada, Hindi)       Marvel Studios  \n",
       "4                                     Kannada  RRR Motion Pictures  "
      ]
     },
     "execution_count": 5,
     "metadata": {},
     "output_type": "execute_result"
    }
   ],
   "source": [
    "df_csv.head()"
   ]
  },
  {
   "cell_type": "code",
   "execution_count": 6,
   "id": "ef0d019d-60b5-4325-993b-7ff79c8d0a4c",
   "metadata": {},
   "outputs": [],
   "source": [
    "df_combined = pd.concat([df_sqlite, df_csv], ignore_index=True)"
   ]
  },
  {
   "cell_type": "code",
   "execution_count": 8,
   "id": "ab1d0f63-a1d0-48e5-b954-c7049e6c59dd",
   "metadata": {},
   "outputs": [
    {
     "name": "stdout",
     "output_type": "stream",
     "text": [
      "Defaulting to user installation because normal site-packages is not writeable\n",
      "Collecting seaborn\n",
      "  Downloading seaborn-0.13.2-py3-none-any.whl (294 kB)\n",
      "\u001b[2K     \u001b[38;2;114;156;31m━━━━━━━━━━━━━━━━━━━━━━━━━━━━━━━━━━━━━━━\u001b[0m \u001b[32m294.9/294.9 KB\u001b[0m \u001b[31m4.6 MB/s\u001b[0m eta \u001b[36m0:00:00\u001b[0m[31m2.0 MB/s\u001b[0m eta \u001b[36m0:00:01\u001b[0m\n",
      "\u001b[?25hRequirement already satisfied: numpy!=1.24.0,>=1.20 in /home/nineleaps/.local/lib/python3.10/site-packages (from seaborn) (1.26.4)\n",
      "Requirement already satisfied: matplotlib!=3.6.1,>=3.4 in /home/nineleaps/.local/lib/python3.10/site-packages (from seaborn) (3.10.1)\n",
      "Requirement already satisfied: pandas>=1.2 in /home/nineleaps/.local/lib/python3.10/site-packages (from seaborn) (2.2.3)\n",
      "Requirement already satisfied: pillow>=8 in /home/nineleaps/.local/lib/python3.10/site-packages (from matplotlib!=3.6.1,>=3.4->seaborn) (11.2.1)\n",
      "Requirement already satisfied: kiwisolver>=1.3.1 in /home/nineleaps/.local/lib/python3.10/site-packages (from matplotlib!=3.6.1,>=3.4->seaborn) (1.4.8)\n",
      "Requirement already satisfied: fonttools>=4.22.0 in /home/nineleaps/.local/lib/python3.10/site-packages (from matplotlib!=3.6.1,>=3.4->seaborn) (4.57.0)\n",
      "Requirement already satisfied: python-dateutil>=2.7 in /home/nineleaps/.local/lib/python3.10/site-packages (from matplotlib!=3.6.1,>=3.4->seaborn) (2.9.0.post0)\n",
      "Requirement already satisfied: cycler>=0.10 in /home/nineleaps/.local/lib/python3.10/site-packages (from matplotlib!=3.6.1,>=3.4->seaborn) (0.12.1)\n",
      "Requirement already satisfied: packaging>=20.0 in /home/nineleaps/.local/lib/python3.10/site-packages (from matplotlib!=3.6.1,>=3.4->seaborn) (24.2)\n",
      "Requirement already satisfied: contourpy>=1.0.1 in /home/nineleaps/.local/lib/python3.10/site-packages (from matplotlib!=3.6.1,>=3.4->seaborn) (1.3.2)\n",
      "Requirement already satisfied: pyparsing>=2.3.1 in /usr/lib/python3/dist-packages (from matplotlib!=3.6.1,>=3.4->seaborn) (2.4.7)\n",
      "Requirement already satisfied: pytz>=2020.1 in /usr/lib/python3/dist-packages (from pandas>=1.2->seaborn) (2022.1)\n",
      "Requirement already satisfied: tzdata>=2022.7 in /home/nineleaps/.local/lib/python3.10/site-packages (from pandas>=1.2->seaborn) (2025.2)\n",
      "Requirement already satisfied: six>=1.5 in /usr/lib/python3/dist-packages (from python-dateutil>=2.7->matplotlib!=3.6.1,>=3.4->seaborn) (1.16.0)\n",
      "Installing collected packages: seaborn\n",
      "Successfully installed seaborn-0.13.2\n",
      "Note: you may need to restart the kernel to use updated packages.\n"
     ]
    }
   ],
   "source": [
    "pip install seaborn"
   ]
  },
  {
   "cell_type": "code",
   "execution_count": 9,
   "id": "2ca05e73-facf-4dc6-a4ec-ab57e8670ec5",
   "metadata": {
    "scrolled": true
   },
   "outputs": [
    {
     "data": {
      "image/png": "[encoded data removed]",
      "text/plain": [
       "<Figure size 1000x600 with 1 Axes>"
      ]
     },
     "metadata": {},
     "output_type": "display_data"
    }
   ],
   "source": [
    "import seaborn as sns\n",
    "import matplotlib.pyplot as plt\n",
    "\n",
    "# Drop missing values in BoxOffice column\n",
    "df_combined_clean = df_combined.dropna(subset=['BoxOffice (Crores)'])\n",
    "\n",
    "# Plot distribution\n",
    "plt.figure(figsize=(10,6))\n",
    "sns.boxplot(data=df_combined_clean, x='BoxOffice (Crores)')\n",
    "plt.title('BoxOffice Collections Distribution')\n",
    "plt.xlabel('BoxOffice (Crores)')\n",
    "plt.show()"
   ]
  },
  {
   "cell_type": "code",
   "execution_count": null,
   "id": "031c901a-e2a1-4c38-9acb-2810079504bd",
   "metadata": {},
   "outputs": [],
   "source": []
  },
  {
   "cell_type": "code",
   "execution_count": 10,
   "id": "69d84b3b-e605-464a-8c3d-881280e0ff12",
   "metadata": {},
   "outputs": [
    {
     "name": "stdout",
     "output_type": "stream",
     "text": [
      "                          Title  BoxOffice (Crores) Language\n",
      "3   Baahubali 2: The Conclusion              1810.0   Telugu\n",
      "6                        Dangal              2140.0    Hindi\n",
      "51  Baahubali 2: The Conclusion              1810.0   Telugu\n"
     ]
    }
   ],
   "source": [
    "Q1 = df_combined_clean['BoxOffice (Crores)'].quantile(0.25)\n",
    "Q3 = df_combined_clean['BoxOffice (Crores)'].quantile(0.75)\n",
    "IQR = Q3 - Q1\n",
    "\n",
    "# Define outlier threshold\n",
    "lower_bound = Q1 - 1.5 * IQR\n",
    "upper_bound = Q3 + 1.5 * IQR\n",
    "\n",
    "# Get outliers\n",
    "outliers = df_combined_clean[df_combined_clean['BoxOffice (Crores)'] > upper_bound]\n",
    "print(outliers[['Title', 'BoxOffice (Crores)', 'Language']])"
   ]
  }
 ],
 "metadata": {
  "kernelspec": {
   "display_name": "Python 3 (ipykernel)",
   "language": "python",
   "name": "python3"
  },
  "language_info": {
   "codemirror_mode": {
    "name": "ipython",
    "version": 3
   },
   "file_extension": ".py",
   "mimetype": "text/x-python",
   "name": "python",
   "nbconvert_exporter": "python",
   "pygments_lexer": "ipython3",
   "version": "3.10.12"
  }
 },
 "nbformat": 4,
 "nbformat_minor": 5
}
